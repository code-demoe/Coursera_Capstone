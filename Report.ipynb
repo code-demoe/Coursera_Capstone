{
  "nbformat": 4,
  "nbformat_minor": 0,
  "metadata": {
    "colab": {
      "name": "Report.ipynb",
      "provenance": []
    },
    "kernelspec": {
      "name": "python3",
      "display_name": "Python 3"
    },
    "language_info": {
      "name": "python"
    }
  },
  "cells": [
    {
      "cell_type": "markdown",
      "metadata": {
        "id": "_l9WOr-Xd6Tv"
      },
      "source": [
        "# Battle of Neighborhoods: The Shop Explorer\n",
        "## Business Problem"
      ]
    },
    {
      "cell_type": "markdown",
      "metadata": {
        "id": "9eeUffWdd6of"
      },
      "source": [
        "Vancouver is a major city in western Canada and is the most populous city in the province of British Columbia. Being the third largest metropoliton city, it has the largest population density in Canada. The basic necessities of such a large number of people is satisfied by the numerous shopping venues present accross the huge metropolis."
      ]
    },
    {
      "cell_type": "markdown",
      "metadata": {
        "id": "lnH3aG1Od6xr"
      },
      "source": [
        "This project aims at segmenting the shopping venues into clusters based on their distance from the neighborhood centre they are present and explore various aspects like most common distances for shops to be found, etc. Intuitively, based on geography of the city, the shops that are located within a close range to any neighborhood gets grouped into one cluster. This helps in identifying shops that are outliers and customers may need to go out of their way or through a secluded area to have access to them. This can result in possible threats like robbing, lack of timely emergency services, or in the worst case scenarios life threatening events."
      ]
    },
    {
      "cell_type": "markdown",
      "metadata": {
        "id": "Xoc-V7rKetCt"
      },
      "source": [
        "## Data Description\n",
        "\n",
        "### Wikipedia Data"
      ]
    },
    {
      "cell_type": "markdown",
      "metadata": {
        "id": "oMlWciGjeuAV"
      },
      "source": [
        "Data link: [https://en.wikipedia.org/wiki/List_of_postal_codes_of_Canada:_V](https://)"
      ]
    },
    {
      "cell_type": "markdown",
      "metadata": {
        "id": "qEaf6IkLex2J"
      },
      "source": [
        "The data is fetched as html text from wikipedia and gives the Postal Code, City Name, and Neighborhood Name for the Metropolitan city of Vancouver. web scraping and cleaning is used to scrap the data and fetch the table having the required data fields and ultimately convert it into a pandas DataFrame."
      ]
    },
    {
      "cell_type": "markdown",
      "metadata": {
        "id": "7kueOqDme0eW"
      },
      "source": [
        "### Geocoder Data"
      ]
    },
    {
      "cell_type": "markdown",
      "metadata": {
        "id": "KSaJEqF4e4bY"
      },
      "source": [
        "Further data for Longitudes and Latitudes is fetched using Geocoder library."
      ]
    },
    {
      "cell_type": "markdown",
      "metadata": {
        "id": "q0jUSwMAe7No"
      },
      "source": [
        "### Foursquare API Data"
      ]
    },
    {
      "cell_type": "markdown",
      "metadata": {
        "id": "RDzmMUgJe-OS"
      },
      "source": [
        "We will need data about different shops in different neighborhoods of that specific city. In order to gain that information we will use \"Foursquare\" locational information. Foursquare is a location data provider with information about all manner of venues and events within an area of interest. Such information includes venue names, locations, menus and even photos. As such, the foursquare location platform will be used as the sole data source since all the stated required information can be obtained through the API."
      ]
    },
    {
      "cell_type": "markdown",
      "metadata": {
        "id": "o2EA8g8XfA0i"
      },
      "source": [
        "After finding the list of neighborhoods, we then connect to the Foursquare API to gather information about shops inside each and every neighborhood. For each neighborhood, we have chosen the radius to be 10 km."
      ]
    },
    {
      "cell_type": "markdown",
      "metadata": {
        "id": "IebLSoDjfEFA"
      },
      "source": [
        "The data retrieved from Foursquare contained information of shops within a specified distance of the longitude and latitude of the postcodes. The information obtained per shop is as follows:"
      ]
    },
    {
      "cell_type": "markdown",
      "metadata": {
        "id": "aD5ZHJ7nfGMQ"
      },
      "source": [
        "1. Neighborhood\n",
        "2. Neighborhood Latitude\n",
        "3. Neighborhood Longitude\n",
        "4. Shop\n",
        "5. Name of the Shop/Mall\n",
        "6. Shop Latitude\n",
        "7. Shop Longitude\n",
        "8. Shop Distance from center of Neighborhood\n",
        "9. Shop Category"
      ]
    },
    {
      "cell_type": "markdown",
      "metadata": {
        "id": "8pcPxhqqhn82"
      },
      "source": [
        "## Methodology"
      ]
    },
    {
      "cell_type": "markdown",
      "metadata": {
        "id": "xFNozmLwgT9w"
      },
      "source": [
        "### Map of Vancouver"
      ]
    },
    {
      "cell_type": "markdown",
      "metadata": {
        "id": "3M6TxVuIgYUt"
      },
      "source": [
        "![picture](https://raw.githubusercontent.com/code-demoe/Coursera_Capstone/main/CourseraCapstoneImages/Vancouver.png)"
      ]
    },
    {
      "cell_type": "markdown",
      "metadata": {
        "id": "GNRkqoj_d67O"
      },
      "source": [
        "### FourSquare API\n"
      ]
    },
    {
      "cell_type": "markdown",
      "metadata": {
        "id": "NgI_qIWqeNva"
      },
      "source": [
        "This project would use Four-square API as its prime data gathering source as it has a database of millions of places, especially their places API which provides the ability to perform location search, location sharing and details about a business."
      ]
    },
    {
      "cell_type": "markdown",
      "metadata": {
        "id": "hBVeyjYqeQE2"
      },
      "source": [
        "### Work Flow"
      ]
    },
    {
      "cell_type": "markdown",
      "metadata": {
        "id": "BEjuchCgeVhc"
      },
      "source": [
        "Using credentials of Foursquare API features of near-by places of the neighborhoods would be mined. Due to http request limitations the number of places per neighborhood parameter would reasonably be set to 50 and the radius parameter would be set to 15 km."
      ]
    },
    {
      "cell_type": "markdown",
      "metadata": {
        "id": "IAE6tFB1eWZS"
      },
      "source": [
        "### Clustering Approach:"
      ]
    },
    {
      "cell_type": "markdown",
      "metadata": {
        "id": "Opu1sHhqeZVo"
      },
      "source": [
        "To achieve the project goal, we decided to explore neighborhoods, segment them, and group them into clusters to find similar neighborhoods in a big city like Vancouver. To be able to do that, we need to cluster data using a form of unsupervised machine learning: k-means clustering algorithm"
      ]
    },
    {
      "cell_type": "markdown",
      "metadata": {
        "id": "TktD2ssIllG1"
      },
      "source": [
        "### Results"
      ]
    },
    {
      "cell_type": "markdown",
      "metadata": {
        "id": "oHbua2r4j4Si"
      },
      "source": [
        "Example of DataFrame after retrieving information from FourSquare:"
      ]
    },
    {
      "cell_type": "markdown",
      "metadata": {
        "id": "xpXRG-cfkBzx"
      },
      "source": [
        "![picture](https://raw.githubusercontent.com/code-demoe/Coursera_Capstone/main/CourseraCapstoneImages/Columns.png)"
      ]
    },
    {
      "cell_type": "markdown",
      "metadata": {
        "id": "HKBbV5kjkZCv"
      },
      "source": [
        "Description of shops:\n"
      ]
    },
    {
      "cell_type": "markdown",
      "metadata": {
        "id": "ATiRLyOKk063"
      },
      "source": [
        "![picture](https://raw.githubusercontent.com/code-demoe/Coursera_Capstone/main/CourseraCapstoneImages/DescriptionOfShops.png)"
      ]
    },
    {
      "cell_type": "markdown",
      "metadata": {
        "id": "LHa4ttHlk2qV"
      },
      "source": [
        "Number of Shops within various distance ranges:"
      ]
    },
    {
      "cell_type": "markdown",
      "metadata": {
        "id": "srqgjn9LlF10"
      },
      "source": [
        "![picture](https://raw.githubusercontent.com/code-demoe/Coursera_Capstone/main/CourseraCapstoneImages/NumShopsBasedOnDistance.png)"
      ]
    },
    {
      "cell_type": "markdown",
      "metadata": {
        "id": "H9SSd4uilS3r"
      },
      "source": [
        "Distance range where most number of shops are present for each neighborhood:"
      ]
    },
    {
      "cell_type": "markdown",
      "metadata": {
        "id": "D0N4SxHOlcbH"
      },
      "source": [
        "![picture](https://raw.githubusercontent.com/code-demoe/Coursera_Capstone/main/CourseraCapstoneImages/SortBasedOnDistance.png)"
      ]
    },
    {
      "cell_type": "markdown",
      "metadata": {
        "id": "hhjSd14zl1Hd"
      },
      "source": [
        "#### Final Clustering Result:"
      ]
    },
    {
      "cell_type": "markdown",
      "metadata": {
        "id": "bsnIe_Fkl4dt"
      },
      "source": [
        "![picture](https://raw.githubusercontent.com/code-demoe/Coursera_Capstone/main/CourseraCapstoneImages/VancouverClustered.png)"
      ]
    },
    {
      "cell_type": "markdown",
      "metadata": {
        "id": "jfZvGw7febkW"
      },
      "source": [
        "### Libraries Which are Used to Develope the Project"
      ]
    },
    {
      "cell_type": "markdown",
      "metadata": {
        "id": "UZbESUySefoa"
      },
      "source": [
        "Pandas: For creating and manipulating dataframes.\n",
        "\n",
        "Folium: Python visualization library would be used to visualize the neighborhoods cluster distribution of using interactive leaflet map.\n",
        "\n",
        "Scikit Learn: For importing k-means clustering.\n",
        "\n",
        "Geocoder: To retrieve Location Data.\n",
        "\n",
        "Beautiful Soup and Requests: To scrap and library to handle http requests.\n",
        "\n",
        "Matplotlib: Python Plotting Module."
      ]
    }
  ]
}