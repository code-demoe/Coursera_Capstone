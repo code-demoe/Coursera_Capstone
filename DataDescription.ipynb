{
  "nbformat": 4,
  "nbformat_minor": 0,
  "metadata": {
    "colab": {
      "name": "DataDescription.ipynb",
      "provenance": []
    },
    "kernelspec": {
      "name": "python3",
      "display_name": "Python 3"
    },
    "language_info": {
      "name": "python"
    }
  },
  "cells": [
    {
      "cell_type": "markdown",
      "metadata": {
        "id": "djiCGvY8VwYN"
      },
      "source": [
        "# Battle of Neighborhoods\n",
        "## Data Description\n",
        "\n",
        "### Wikipedia Data"
      ]
    },
    {
      "cell_type": "markdown",
      "metadata": {
        "id": "Esu5y_0HVwhn"
      },
      "source": [
        "Data link: [https://en.wikipedia.org/wiki/List_of_postal_codes_of_Canada:_V](https://)"
      ]
    },
    {
      "cell_type": "markdown",
      "metadata": {
        "id": "IHwA4sC0Vwlr"
      },
      "source": [
        "The data is fetched as html text from wikipedia and gives the Postal Code, City Name, and Neighborhood Name for the Metropolitan city of Vancouver. web scraping and cleaning is used to scrap the data and fetch the table having the required data fields and ultimately convert it into a pandas DataFrame."
      ]
    },
    {
      "cell_type": "markdown",
      "metadata": {
        "id": "BS1Z1P6bYlto"
      },
      "source": [
        "### Geocoder Data"
      ]
    },
    {
      "cell_type": "markdown",
      "metadata": {
        "id": "0aGQQ_aRVwpl"
      },
      "source": [
        "Further data for Longitudes and Latitudes is fetched using Geocoder library. "
      ]
    },
    {
      "cell_type": "markdown",
      "metadata": {
        "id": "3a6XnKbbVxcU"
      },
      "source": [
        "### Foursquare API Data"
      ]
    },
    {
      "cell_type": "markdown",
      "metadata": {
        "id": "LuorUN8-VxfX"
      },
      "source": [
        "We will need data about different shops in different neighborhoods of that specific city. In order to gain that information we will use \"Foursquare\" locational information. Foursquare is a location data provider with information about all manner of venues and events within an area of interest. Such information includes venue names, locations, menus and even photos. As such, the foursquare location platform will be used as the sole data source since all the stated required information can be obtained through the API."
      ]
    },
    {
      "cell_type": "markdown",
      "metadata": {
        "id": "H4jYm6O7Xari"
      },
      "source": [
        "After finding the list of neighborhoods, we then connect to the Foursquare API to gather information about shops inside each and every neighborhood. For each neighborhood, we have chosen the radius to be 10 km."
      ]
    },
    {
      "cell_type": "markdown",
      "metadata": {
        "id": "cP_cE-hmXjVy"
      },
      "source": [
        "The data retrieved from Foursquare contained information of shops within a specified distance of the longitude and latitude of the postcodes. The information obtained per shop is as follows:"
      ]
    },
    {
      "cell_type": "markdown",
      "metadata": {
        "id": "guyo6HW6XsAd"
      },
      "source": [
        "1. Neighborhood\n",
        "2. Neighborhood Latitude\n",
        "3. Neighborhood Longitude\n",
        "4. Shop\n",
        "5. Name of the Shop/Mall\n",
        "6. Shop Latitude\n",
        "7. Shop Longitude\n",
        "8. Shop Distance from center of Neighborhood\n",
        "9. Shop Category"
      ]
    }
  ]
}