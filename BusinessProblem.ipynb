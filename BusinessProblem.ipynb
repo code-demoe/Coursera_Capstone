{
  "nbformat": 4,
  "nbformat_minor": 0,
  "metadata": {
    "colab": {
      "name": "BusinessProblem.ipynb",
      "provenance": []
    },
    "kernelspec": {
      "name": "python3",
      "display_name": "Python 3"
    },
    "language_info": {
      "name": "python"
    }
  },
  "cells": [
    {
      "cell_type": "markdown",
      "metadata": {
        "id": "g4SRzO13QMa8"
      },
      "source": [
        "# Battle of Neighborhoods\n",
        "## Business Problem\n",
        "### Introduction"
      ]
    },
    {
      "cell_type": "markdown",
      "metadata": {
        "id": "63rc7AIqQMpG"
      },
      "source": [
        "  Vancouver is a major city in western Canada and is the most populous city in the province of British Columbia. Being the third largest metropoliton city, it has the largest population density in Canada. The basic necessities of such a large number of people is satisfied by the numerous shopping venues present accross the huge metropolis. "
      ]
    },
    {
      "cell_type": "markdown",
      "metadata": {
        "id": "WTmZ4PdPQMzQ"
      },
      "source": [
        "This project aims at segmenting the shopping venues into clusters based on their distance from the neighborhood centre they are present and explore various aspects like most common distances for shops to be found, etc. Intuitively, based on geography of the city, the shops that are located within a close range to any neighborhood gets grouped into one cluster. This helps in identifying shops that are outliers and customers may need to go out of their way or through a secluded area to have access to them. This can result in possible threats like robbing, lack of timely emergency services, or in the worst case scenarios life threatening events.    "
      ]
    },
    {
      "cell_type": "markdown",
      "metadata": {
        "id": "tNWtFlH5TtMH"
      },
      "source": [
        "### FourSquare API\n"
      ]
    },
    {
      "cell_type": "markdown",
      "metadata": {
        "id": "Ms0l5IZ0TybH"
      },
      "source": [
        "This project would use Four-square API as its prime data gathering source as it has a database of millions of places, especially their places API which provides the ability to perform location search, location sharing and details about a business."
      ]
    },
    {
      "cell_type": "markdown",
      "metadata": {
        "id": "2zBUMpBtT36V"
      },
      "source": [
        "### Work Flow:"
      ]
    },
    {
      "cell_type": "markdown",
      "metadata": {
        "id": "ehzO4NufT-ae"
      },
      "source": [
        "Using credentials of Foursquare API features of near-by places of the neighborhoods would be mined. Due to http request limitations the number of places per neighborhood parameter would reasonably be set to 50 and the radius parameter would be set to 10 km."
      ]
    },
    {
      "cell_type": "markdown",
      "metadata": {
        "id": "5ARuQxRJULE2"
      },
      "source": [
        "### Clustering Approach:"
      ]
    },
    {
      "cell_type": "markdown",
      "metadata": {
        "id": "7oi_V3pqUPmF"
      },
      "source": [
        "To achieve the project goal, we decided to explore neighborhoods, segment them, and group them into clusters to find similar neighborhoods in a big city like Vancouver. To be able to do that, we need to cluster data using a form of unsupervised machine learning: k-means clustering algorithm"
      ]
    },
    {
      "cell_type": "markdown",
      "metadata": {
        "id": "s-9BtCyhUnMu"
      },
      "source": [
        "### Libraries Which are Used to Develope the Project:"
      ]
    },
    {
      "cell_type": "markdown",
      "metadata": {
        "id": "rUBYauOgUpO-"
      },
      "source": [
        "Pandas: For creating and manipulating dataframes.\n",
        "\n",
        "Folium: Python visualization library would be used to visualize the neighborhoods cluster distribution of using interactive leaflet map.\n",
        "\n",
        "Scikit Learn: For importing k-means clustering.\n",
        "\n",
        "Geocoder: To retrieve Location Data.\n",
        "\n",
        "Beautiful Soup and Requests: To scrap and library to handle http requests.\n",
        "\n",
        "Matplotlib: Python Plotting Module."
      ]
    }
  ]
}